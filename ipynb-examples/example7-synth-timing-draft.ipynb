{
 "cells": [
  {
   "cell_type": "markdown",
   "metadata": {},
   "source": [
    "# Example 7: Reduction and Speed Analysis"
   ]
  },
  {
   "cell_type": "markdown",
   "metadata": {},
   "source": [
    "After building a circuit, one might want to do some stuff to **reduce the\n",
    "hardware into simpler nets** as well as **analyze various metrics of the\n",
    "hardware**. This functionality is provided in the Passes part of PyRTL\n",
    "and will demonstrated here."
   ]
  },
  {
   "cell_type": "code",
   "execution_count": 28,
   "metadata": {
    "collapsed": true
   },
   "outputs": [],
   "source": [
    "import pyrtl\n",
    "from pyrtl.analysis import estimate"
   ]
  },
  {
   "cell_type": "markdown",
   "metadata": {},
   "source": [
    "## Part 1: Timing Analysis"
   ]
  },
  {
   "cell_type": "markdown",
   "metadata": {},
   "source": [
    "**Timing and area usage** are key considerations of any hardware block that one\n",
    "makes.\n",
    "\n",
    "PyRTL provides functions to do these opertions"
   ]
  },
  {
   "cell_type": "code",
   "execution_count": 29,
   "metadata": {
    "collapsed": true
   },
   "outputs": [],
   "source": [
    "# Creating a sample harware block\n",
    "pyrtl.reset_working_block()\n",
    "const_wire = pyrtl.Const(6, bitwidth=4)\n",
    "in_wire2 = pyrtl.Input(bitwidth=4, name=\"input2\")\n",
    "out_wire = pyrtl.Output(bitwidth=5, name=\"output\")\n",
    "out_wire <<= const_wire + in_wire2"
   ]
  },
  {
   "cell_type": "markdown",
   "metadata": {},
   "source": [
    "### Now we will do the timing analysis as well as print out the critical path"
   ]
  },
  {
   "cell_type": "code",
   "execution_count": 30,
   "metadata": {},
   "outputs": [
    {
     "name": "stdout",
     "output_type": "stream",
     "text": [
      "Pre Synthesis:\n",
      "The total block timing delay is  386.9\n"
     ]
    }
   ],
   "source": [
    "# Generating timing analysis information\n",
    "print(\"Pre Synthesis:\")\n",
    "timing = estimate.TimingAnalysis()\n",
    "timing.print_max_length()"
   ]
  },
  {
   "cell_type": "markdown",
   "metadata": {},
   "source": [
    "We are also able to **print out the critical paths** as well as get them\n",
    "back as an array."
   ]
  },
  {
   "cell_type": "code",
   "execution_count": 31,
   "metadata": {},
   "outputs": [
    {
     "name": "stdout",
     "output_type": "stream",
     "text": [
      "Critical path 0 :\n",
      "   The first wire is: const_60_6/4C\n",
      "   tmp234/5W <-- + -- const_60_6/4C, input2/4I \n",
      "\n",
      "Critical path 1 :\n",
      "   The first wire is: input2/4I\n",
      "   tmp234/5W <-- + -- const_60_6/4C, input2/4I \n",
      "\n",
      "Critical path 2 :\n",
      "   The first wire is: const_60_6/4C\n",
      "   tmp234/5W <-- + -- const_60_6/4C, input2/4I \n",
      "   output/5O <-- w -- tmp234/5W \n",
      "\n",
      "Critical path 3 :\n",
      "   The first wire is: input2/4I\n",
      "   tmp234/5W <-- + -- const_60_6/4C, input2/4I \n",
      "   output/5O <-- w -- tmp234/5W \n",
      "\n"
     ]
    }
   ],
   "source": [
    "critical_path_info = timing.critical_path()"
   ]
  },
  {
   "cell_type": "markdown",
   "metadata": {},
   "source": [
    "## Part 2: Area Analysis"
   ]
  },
  {
   "cell_type": "markdown",
   "metadata": {},
   "source": [
    "PyRTL also provides **estimates for the area** that would be used up if the\n",
    "circuit was printed as an **ASIC**"
   ]
  },
  {
   "cell_type": "code",
   "execution_count": 32,
   "metadata": {},
   "outputs": [
    {
     "name": "stdout",
     "output_type": "stream",
     "text": [
      "Estimated Area of block 4.870008e-05 sq mm\n",
      "\n"
     ]
    }
   ],
   "source": [
    "logic_area, mem_area = estimate.area_estimation(tech_in_nm=65)\n",
    "est_area = logic_area + mem_area\n",
    "print(\"Estimated Area of block\", est_area, \"sq mm\")\n",
    "print()"
   ]
  },
  {
   "cell_type": "markdown",
   "metadata": {},
   "source": [
    "## Part 3: Synthesis"
   ]
  },
  {
   "cell_type": "markdown",
   "metadata": {},
   "source": [
    "Synthesis is the operation of **reducing the circuit into simpler components**\n",
    "The base synthesis function breaks down the more complex logic operations\n",
    "into logic gates (keeps registers and memories intact) as well as **reduces\n",
    "all combinatorial logic into ops that only use one bitwidth wires**\n",
    "\n",
    "This synthesis allows for PyRTL to make **optimizations to the net structure**\n",
    "as well as prepares it for further transformations on the PyRTL Toolchain"
   ]
  },
  {
   "cell_type": "code",
   "execution_count": 33,
   "metadata": {},
   "outputs": [
    {
     "name": "stdout",
     "output_type": "stream",
     "text": [
      "Pre Optimization:\n",
      "The total block timing delay is  1236.3999999999996\n",
      "tmp235_synth_0/1W <-- w -- const_65_0/1C \n",
      "tmp277_synth_2/1W <-- w -- tmp276_synth_1/1W \n",
      "tmp_output_synth_3/1W <-- w -- tmp234_synth_3/1W \n",
      "tmp277_synth_0/1W <-- w -- tmp238_synth_0/1W \n",
      "tmp303/1W <-- & -- tmp235_synth_0/1W, tmp236_synth_0/1W \n",
      "tmp282/1W <-- s -- input2/4I ((3,))\n",
      "tmp234_synth_0/1W <-- w -- tmp278_synth_0/1W \n",
      "tmp275_synth_1/1W <-- w -- tmp269_synth_0/1W \n",
      "tmp277_synth_1/1W <-- w -- tmp276_synth_0/1W \n",
      "tmp246_synth_0/1W <-- w -- tmp244_synth_0/1W \n",
      "tmp_input2_synth_0/1W <-- w -- tmp279/1W \n",
      "tmp268_synth_0/1W <-- w -- tmp297/1W \n",
      "tmp311/1W <-- & -- tmp258_synth_0/1W, tmp254_synth_0/1W \n",
      "tmp258_synth_0/1W <-- w -- tmp256_synth_0/1W \n",
      "tmp259_synth_0/1W <-- w -- tmp291/1W \n",
      "tmp236_synth_0/1W <-- w -- tmp_input2_synth_0/1W \n",
      "tmp271_synth_0/1W <-- w -- tmp286/1W \n",
      "tmp234_synth_1/1W <-- w -- tmp278_synth_1/1W \n",
      "tmp234_synth_3/1W <-- w -- tmp278_synth_3/1W \n",
      "tmp265_synth_0/1W <-- w -- tmp308/1W \n",
      "tmp254_synth_0/1W <-- w -- tmp304/1W \n",
      "tmp264_synth_0/1W <-- w -- tmp311/1W \n",
      "tmp305/1W <-- | -- tmp272_synth_0/1W, tmp273_synth_0/1W \n",
      "tmp284/1W <-- & -- tmp267_synth_0/1W, tmp265_synth_0/1W \n",
      "tmp280/1W <-- s -- input2/4I ((1,))\n",
      "tmp_output_synth_0/1W <-- w -- tmp234_synth_0/1W \n",
      "tmp252_synth_0/1W <-- w -- tmp292/1W \n",
      "tmp291/1W <-- ^ -- tmp257_synth_0/1W, tmp258_synth_0/1W \n",
      "tmp297/1W <-- ^ -- tmp266_synth_0/1W, tmp267_synth_0/1W \n",
      "tmp245_synth_0/1W <-- w -- tmp_input2_synth_1/1W \n",
      "tmp289/1W <-- & -- tmp235_synth_0/1W, const_70_0/1C \n",
      "tmp263_synth_0/1W <-- w -- tmp298/1W \n",
      "tmp278_synth_4/1W <-- w -- tmp274_synth_0/1W \n",
      "tmp310/1W <-- ^ -- tmp235_synth_0/1W, tmp236_synth_0/1W \n",
      "tmp278_synth_1/1W <-- w -- tmp277_synth_1/1W \n",
      "tmp308/1W <-- | -- tmp263_synth_0/1W, tmp264_synth_0/1W \n",
      "tmp_input2_synth_2/1W <-- w -- tmp281/1W \n",
      "tmp243_synth_0/1W <-- w -- tmp287/1W \n",
      "tmp234_synth_2/1W <-- w -- tmp278_synth_2/1W \n",
      "tmp274_synth_0/1W <-- w -- tmp305/1W \n",
      "tmp276_synth_1/1W <-- w -- tmp275_synth_0/1W \n",
      "tmp275_synth_0/1W <-- w -- tmp260_synth_0/1W \n",
      "tmp242_synth_0/1W <-- w -- tmp285/1W \n",
      "tmp276_synth_0/1W <-- w -- tmp249_synth_0/1W \n",
      "tmp244_synth_2/1W <-- w -- const_68_0/1C \n",
      "tmp256_synth_1/1W <-- w -- tmp245_synth_2/1W \n",
      "tmp273_synth_0/1W <-- w -- tmp284/1W \n",
      "tmp_output_synth_1/1W <-- w -- tmp234_synth_1/1W \n",
      "tmp_output_synth_4/1W <-- w -- tmp234_synth_4/1W \n",
      "tmp307/1W <-- ^ -- tmp259_synth_0/1W, tmp254_synth_0/1W \n",
      "tmp281/1W <-- s -- input2/4I ((2,))\n",
      "tmp276_synth_2/1W <-- w -- tmp275_synth_1/1W \n",
      "tmp300/1W <-- & -- tmp257_synth_0/1W, tmp254_synth_0/1W \n",
      "tmp241_synth_0/1W <-- w -- tmp295/1W \n",
      "tmp249_synth_0/1W <-- w -- tmp290/1W \n",
      "tmp301/1W <-- ^ -- tmp268_synth_0/1W, tmp265_synth_0/1W \n",
      "tmp298/1W <-- | -- tmp261_synth_0/1W, tmp262_synth_0/1W \n",
      "tmp257_synth_0/1W <-- w -- tmp255_synth_0/1W \n",
      "tmp253_synth_0/1W <-- w -- tmp309/1W \n",
      "tmp302/1W <-- & -- tmp266_synth_0/1W, tmp267_synth_0/1W \n",
      "output/5O <-- w -- tmp283/5W \n",
      "tmp286/1W <-- & -- tmp266_synth_0/1W, tmp265_synth_0/1W \n",
      "tmp294/1W <-- & -- tmp246_synth_0/1W, tmp243_synth_0/1W \n",
      "tmp269_synth_0/1W <-- w -- tmp301/1W \n",
      "tmp278_synth_2/1W <-- w -- tmp277_synth_2/1W \n",
      "tmp285/1W <-- & -- tmp236_synth_0/1W, const_71_0/1C \n",
      "tmp234_synth_4/1W <-- w -- tmp278_synth_4/1W \n",
      "tmp287/1W <-- | -- tmp241_synth_0/1W, tmp242_synth_0/1W \n",
      "tmp244_synth_1/1W <-- w -- const_67_1/1C \n",
      "tmp299/1W <-- & -- tmp246_synth_0/1W, tmp247_synth_0/1W \n",
      "tmp245_synth_2/1W <-- w -- tmp_input2_synth_3/1W \n",
      "tmp292/1W <-- | -- tmp250_synth_0/1W, tmp251_synth_0/1W \n",
      "tmp295/1W <-- | -- tmp239_synth_0/1W, tmp240_synth_0/1W \n",
      "tmp238_synth_0/1W <-- w -- tmp288/1W \n",
      "tmp255_synth_0/1W <-- w -- tmp244_synth_1/1W \n",
      "tmp250_synth_0/1W <-- w -- tmp299/1W \n",
      "tmp270_synth_0/1W <-- w -- tmp302/1W \n",
      "tmp290/1W <-- ^ -- tmp248_synth_0/1W, tmp243_synth_0/1W \n",
      "tmp266_synth_0/1W <-- w -- tmp255_synth_1/1W \n",
      "tmp_output_synth_2/1W <-- w -- tmp234_synth_2/1W \n",
      "tmp309/1W <-- & -- tmp247_synth_0/1W, tmp243_synth_0/1W \n",
      "tmp256_synth_0/1W <-- w -- tmp245_synth_1/1W \n",
      "tmp244_synth_0/1W <-- w -- const_66_1/1C \n",
      "tmp245_synth_1/1W <-- w -- tmp_input2_synth_2/1W \n",
      "tmp283/5W <-- c -- tmp_output_synth_4/1W, tmp_output_synth_3/1W, tmp_output_synth_2/1W, tmp_output_synth_1/1W, tmp_output_synth_0/1W \n",
      "tmp267_synth_0/1W <-- w -- tmp256_synth_1/1W \n",
      "tmp306/1W <-- & -- tmp257_synth_0/1W, tmp258_synth_0/1W \n",
      "tmp277_synth_3/1W <-- w -- tmp276_synth_2/1W \n",
      "tmp251_synth_0/1W <-- w -- tmp294/1W \n",
      "tmp279/1W <-- s -- input2/4I ((0,))\n",
      "tmp260_synth_0/1W <-- w -- tmp307/1W \n",
      "tmp_input2_synth_3/1W <-- w -- tmp282/1W \n",
      "tmp237_synth_0/1W <-- w -- tmp310/1W \n",
      "tmp248_synth_0/1W <-- w -- tmp296/1W \n",
      "tmp_input2_synth_1/1W <-- w -- tmp280/1W \n",
      "tmp288/1W <-- ^ -- tmp237_synth_0/1W, const_69_0/1C \n",
      "tmp293/1W <-- | -- tmp270_synth_0/1W, tmp271_synth_0/1W \n",
      "tmp304/1W <-- | -- tmp252_synth_0/1W, tmp253_synth_0/1W \n",
      "tmp272_synth_0/1W <-- w -- tmp293/1W \n",
      "tmp296/1W <-- ^ -- tmp246_synth_0/1W, tmp247_synth_0/1W \n",
      "tmp278_synth_3/1W <-- w -- tmp277_synth_3/1W \n",
      "tmp261_synth_0/1W <-- w -- tmp306/1W \n",
      "tmp247_synth_0/1W <-- w -- tmp245_synth_0/1W \n",
      "tmp240_synth_0/1W <-- w -- tmp289/1W \n",
      "tmp239_synth_0/1W <-- w -- tmp303/1W \n",
      "tmp278_synth_0/1W <-- w -- tmp277_synth_0/1W \n",
      "tmp255_synth_1/1W <-- w -- tmp244_synth_2/1W \n",
      "tmp262_synth_0/1W <-- w -- tmp300/1W \n",
      "\n"
     ]
    }
   ],
   "source": [
    "pyrtl.synthesize()\n",
    "\n",
    "print(\"Pre Optimization:\")\n",
    "timing = estimate.TimingAnalysis()\n",
    "timing.print_max_length()\n",
    "for net in pyrtl.working_block().logic:\n",
    "    print(str(net))\n",
    "print()"
   ]
  },
  {
   "cell_type": "markdown",
   "metadata": {},
   "source": [
    "## Part 4: Optimization"
   ]
  },
  {
   "cell_type": "markdown",
   "metadata": {},
   "source": [
    "PyRTL has functions built in to **eliminate unnecessary logic** from the\n",
    "circuit.\n",
    "\n",
    "These functions are all done with a simple call:"
   ]
  },
  {
   "cell_type": "code",
   "execution_count": 34,
   "metadata": {},
   "outputs": [
    {
     "ename": "PyrtlError",
     "evalue": "need graphviz installed (try \"pip install graphviz\")",
     "output_type": "error",
     "traceback": [
      "\u001b[1;31m---------------------------------------------------------------------------\u001b[0m",
      "\u001b[1;31mModuleNotFoundError\u001b[0m                       Traceback (most recent call last)",
      "\u001b[1;32m~\\Anaconda3\\lib\\site-packages\\pyrtl\\inputoutput.py\u001b[0m in \u001b[0;36mblock_to_svg\u001b[1;34m(block)\u001b[0m\n\u001b[0;32m    399\u001b[0m     \u001b[1;32mtry\u001b[0m\u001b[1;33m:\u001b[0m\u001b[1;33m\u001b[0m\u001b[0m\n\u001b[1;32m--> 400\u001b[1;33m         \u001b[1;32mfrom\u001b[0m \u001b[0mgraphviz\u001b[0m \u001b[1;32mimport\u001b[0m \u001b[0mSource\u001b[0m\u001b[1;33m\u001b[0m\u001b[0m\n\u001b[0m\u001b[0;32m    401\u001b[0m         \u001b[1;32mreturn\u001b[0m \u001b[0mSource\u001b[0m\u001b[1;33m(\u001b[0m\u001b[0mblock_to_graphviz_string\u001b[0m\u001b[1;33m(\u001b[0m\u001b[1;33m)\u001b[0m\u001b[1;33m)\u001b[0m\u001b[1;33m.\u001b[0m\u001b[0m_repr_svg_\u001b[0m\u001b[1;33m(\u001b[0m\u001b[1;33m)\u001b[0m\u001b[1;33m\u001b[0m\u001b[0m\n",
      "\u001b[1;31mModuleNotFoundError\u001b[0m: No module named 'graphviz'",
      "\nDuring handling of the above exception, another exception occurred:\n",
      "\u001b[1;31mPyrtlError\u001b[0m                                Traceback (most recent call last)",
      "\u001b[1;32m~\\Anaconda3\\lib\\site-packages\\IPython\\core\\formatters.py\u001b[0m in \u001b[0;36m__call__\u001b[1;34m(self, obj)\u001b[0m\n\u001b[0;32m    334\u001b[0m             \u001b[0mmethod\u001b[0m \u001b[1;33m=\u001b[0m \u001b[0mget_real_method\u001b[0m\u001b[1;33m(\u001b[0m\u001b[0mobj\u001b[0m\u001b[1;33m,\u001b[0m \u001b[0mself\u001b[0m\u001b[1;33m.\u001b[0m\u001b[0mprint_method\u001b[0m\u001b[1;33m)\u001b[0m\u001b[1;33m\u001b[0m\u001b[0m\n\u001b[0;32m    335\u001b[0m             \u001b[1;32mif\u001b[0m \u001b[0mmethod\u001b[0m \u001b[1;32mis\u001b[0m \u001b[1;32mnot\u001b[0m \u001b[1;32mNone\u001b[0m\u001b[1;33m:\u001b[0m\u001b[1;33m\u001b[0m\u001b[0m\n\u001b[1;32m--> 336\u001b[1;33m                 \u001b[1;32mreturn\u001b[0m \u001b[0mmethod\u001b[0m\u001b[1;33m(\u001b[0m\u001b[1;33m)\u001b[0m\u001b[1;33m\u001b[0m\u001b[0m\n\u001b[0m\u001b[0;32m    337\u001b[0m             \u001b[1;32mreturn\u001b[0m \u001b[1;32mNone\u001b[0m\u001b[1;33m\u001b[0m\u001b[0m\n\u001b[0;32m    338\u001b[0m         \u001b[1;32melse\u001b[0m\u001b[1;33m:\u001b[0m\u001b[1;33m\u001b[0m\u001b[0m\n",
      "\u001b[1;32m~\\Anaconda3\\lib\\site-packages\\pyrtl\\core.py\u001b[0m in \u001b[0;36m_repr_svg_\u001b[1;34m(self)\u001b[0m\n\u001b[0;32m    335\u001b[0m         \u001b[1;34m\"\"\" IPython display support for Block. \"\"\"\u001b[0m\u001b[1;33m\u001b[0m\u001b[0m\n\u001b[0;32m    336\u001b[0m         \u001b[1;32mfrom\u001b[0m \u001b[1;33m.\u001b[0m\u001b[0minputoutput\u001b[0m \u001b[1;32mimport\u001b[0m \u001b[0mblock_to_svg\u001b[0m\u001b[1;33m\u001b[0m\u001b[0m\n\u001b[1;32m--> 337\u001b[1;33m         \u001b[1;32mreturn\u001b[0m \u001b[0mblock_to_svg\u001b[0m\u001b[1;33m(\u001b[0m\u001b[0mself\u001b[0m\u001b[1;33m)\u001b[0m\u001b[1;33m\u001b[0m\u001b[0m\n\u001b[0m\u001b[0;32m    338\u001b[0m \u001b[1;33m\u001b[0m\u001b[0m\n\u001b[0;32m    339\u001b[0m     \u001b[1;32mdef\u001b[0m \u001b[0m__iter__\u001b[0m\u001b[1;33m(\u001b[0m\u001b[0mself\u001b[0m\u001b[1;33m)\u001b[0m\u001b[1;33m:\u001b[0m\u001b[1;33m\u001b[0m\u001b[0m\n",
      "\u001b[1;32m~\\Anaconda3\\lib\\site-packages\\pyrtl\\inputoutput.py\u001b[0m in \u001b[0;36mblock_to_svg\u001b[1;34m(block)\u001b[0m\n\u001b[0;32m    401\u001b[0m         \u001b[1;32mreturn\u001b[0m \u001b[0mSource\u001b[0m\u001b[1;33m(\u001b[0m\u001b[0mblock_to_graphviz_string\u001b[0m\u001b[1;33m(\u001b[0m\u001b[1;33m)\u001b[0m\u001b[1;33m)\u001b[0m\u001b[1;33m.\u001b[0m\u001b[0m_repr_svg_\u001b[0m\u001b[1;33m(\u001b[0m\u001b[1;33m)\u001b[0m\u001b[1;33m\u001b[0m\u001b[0m\n\u001b[0;32m    402\u001b[0m     \u001b[1;32mexcept\u001b[0m \u001b[0mImportError\u001b[0m\u001b[1;33m:\u001b[0m\u001b[1;33m\u001b[0m\u001b[0m\n\u001b[1;32m--> 403\u001b[1;33m         \u001b[1;32mraise\u001b[0m \u001b[0mPyrtlError\u001b[0m\u001b[1;33m(\u001b[0m\u001b[1;34m'need graphviz installed (try \"pip install graphviz\")'\u001b[0m\u001b[1;33m)\u001b[0m\u001b[1;33m\u001b[0m\u001b[0m\n\u001b[0m\u001b[0;32m    404\u001b[0m \u001b[1;33m\u001b[0m\u001b[0m\n\u001b[0;32m    405\u001b[0m \u001b[1;33m\u001b[0m\u001b[0m\n",
      "\u001b[1;31mPyrtlError\u001b[0m: need graphviz installed (try \"pip install graphviz\")"
     ]
    },
    {
     "data": {
      "text/plain": [
       "<pyrtl.core.PostSynthBlock at 0x1da82a2c1d0>"
      ]
     },
     "execution_count": 34,
     "metadata": {},
     "output_type": "execute_result"
    }
   ],
   "source": [
    "pyrtl.optimize()"
   ]
  },
  {
   "cell_type": "markdown",
   "metadata": {},
   "source": [
    "### Now to see the difference"
   ]
  },
  {
   "cell_type": "code",
   "execution_count": 35,
   "metadata": {},
   "outputs": [
    {
     "name": "stdout",
     "output_type": "stream",
     "text": [
      "Post Optimization:\n",
      "The total block timing delay is  345.66999999999996\n"
     ]
    }
   ],
   "source": [
    "print(\"Post Optimization:\")\n",
    "timing = estimate.TimingAnalysis()\n",
    "timing.print_max_length()"
   ]
  },
  {
   "cell_type": "code",
   "execution_count": 36,
   "metadata": {},
   "outputs": [
    {
     "name": "stdout",
     "output_type": "stream",
     "text": [
      "tmp311/1W <-- & -- tmp281/1W, tmp280/1W \n",
      "tmp296/1W <-- ~ -- tmp280/1W \n",
      "tmp291/1W <-- ~ -- tmp281/1W \n",
      "output/5O <-- w -- tmp283/5W \n",
      "tmp307/1W <-- ^ -- tmp291/1W, tmp280/1W \n",
      "tmp301/1W <-- ^ -- tmp282/1W, tmp308/1W \n",
      "tmp308/1W <-- | -- tmp298/1W, tmp311/1W \n",
      "tmp282/1W <-- s -- input2/4I ((3,))\n",
      "tmp298/1W <-- | -- tmp281/1W, tmp280/1W \n",
      "tmp284/1W <-- & -- tmp282/1W, tmp308/1W \n",
      "tmp279/1W <-- s -- input2/4I ((0,))\n",
      "tmp283/5W <-- c -- tmp284/1W, tmp301/1W, tmp307/1W, tmp296/1W, tmp279/1W \n",
      "tmp281/1W <-- s -- input2/4I ((2,))\n",
      "tmp280/1W <-- s -- input2/4I ((1,))\n"
     ]
    }
   ],
   "source": [
    "for net in pyrtl.working_block().logic:\n",
    "    print(str(net))"
   ]
  },
  {
   "cell_type": "markdown",
   "metadata": {},
   "source": [
    "### As we can see, the number of nets in the circuit were drastically reduced by the optimization algorithm."
   ]
  }
 ],
 "metadata": {
  "kernelspec": {
   "display_name": "Python 3",
   "language": "python",
   "name": "python3"
  },
  "language_info": {
   "codemirror_mode": {
    "name": "ipython",
    "version": 3
   },
   "file_extension": ".py",
   "mimetype": "text/x-python",
   "name": "python",
   "nbconvert_exporter": "python",
   "pygments_lexer": "ipython3",
   "version": "3.6.3"
  }
 },
 "nbformat": 4,
 "nbformat_minor": 2
}
