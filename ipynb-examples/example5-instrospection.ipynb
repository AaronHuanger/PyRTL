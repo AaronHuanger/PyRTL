{
 "cells": [
  {
   "cell_type": "markdown",
   "metadata": {},
   "source": [
    "# Example 5: Making use of PyRTL and Introspection."
   ]
  },
  {
   "cell_type": "markdown",
   "metadata": {},
   "source": [
    "The following example shows how pyrtl can be used to make some interesting\n",
    "hardware structures using **python introspection**.  In particular, this example\n",
    "makes a **N-stage pipeline structure**.  Any specific pipeline is then a derived\n",
    "class of *SimplePipeline* where methods with names starting with *\"stage\"* are\n",
    "stages, and new members with names not starting with \"\\_\" are to be registered\n",
    "for the next stage."
   ]
  },
  {
   "cell_type": "markdown",
   "metadata": {},
   "source": [
    "### Pipeline builder with auto generation of pipeline registers."
   ]
  },
  {
   "cell_type": "code",
   "execution_count": 9,
   "metadata": {},
   "outputs": [],
   "source": [
    "import pyrtl\n",
    "\n",
    "pyrtl.reset_working_block()\n",
    "\n",
    "class SimplePipeline(object):\n",
    "    def __init__(self):\n",
    "        self._pipeline_register_map = {}\n",
    "        self._current_stage_num = 0\n",
    "        stage_list = [method for method in dir(self) if method.startswith('stage')]\n",
    "        for stage in sorted(stage_list):\n",
    "            stage_method = getattr(self, stage)\n",
    "            stage_method()\n",
    "            self._current_stage_num += 1\n",
    "    \n",
    "    def __getattr__(self, name):\n",
    "        try:\n",
    "            return self._pipeline_register_map[self._current_stage_num][name]\n",
    "        except KeyError:\n",
    "            raise pyrtl.PyrtlError(\n",
    "                'error, no pipeline register \"%s\" defined for stage %d'\n",
    "                % (name, self._current_stage_num))\n",
    "\n",
    "    def __setattr__(self, name, value):\n",
    "        if name.startswith('_'):\n",
    "            # do not do anything tricky with variables starting with '_'\n",
    "            object.__setattr__(self, name, value)\n",
    "        else:\n",
    "            next_stage = self._current_stage_num + 1\n",
    "            pipereg_id = str(self._current_stage_num) + 'to' + str(next_stage)\n",
    "            rname = 'pipereg_' + pipereg_id + '_' + name\n",
    "            new_pipereg = pyrtl.Register(bitwidth=len(value), name=rname)\n",
    "            if next_stage not in self._pipeline_register_map:\n",
    "                self._pipeline_register_map[next_stage] = {}\n",
    "            self._pipeline_register_map[next_stage][name] = new_pipereg\n",
    "            new_pipereg.next <<= value    "
   ]
  },
  {
   "cell_type": "markdown",
   "metadata": {},
   "source": [
    "### A very simple pipeline to show how registers are inferred."
   ]
  },
  {
   "cell_type": "code",
   "execution_count": 10,
   "metadata": {
    "collapsed": true
   },
   "outputs": [],
   "source": [
    "class SimplePipelineExample(SimplePipeline):\n",
    "    def __init__(self):\n",
    "        self._loopback = pyrtl.WireVector(1, 'loopback')\n",
    "        super(SimplePipelineExample, self).__init__()\n",
    "\n",
    "    def stage0(self):\n",
    "        self.n = ~ self._loopback\n",
    "\n",
    "    def stage1(self):\n",
    "        self.n = self.n\n",
    "\n",
    "    def stage2(self):\n",
    "        self.n = self.n\n",
    "\n",
    "    def stage3(self):\n",
    "        self.n = self.n\n",
    "\n",
    "    def stage4(self):\n",
    "        self._loopback <<= self.n"
   ]
  },
  {
   "cell_type": "markdown",
   "metadata": {},
   "source": [
    "### Simulation of the core"
   ]
  },
  {
   "cell_type": "code",
   "execution_count": 11,
   "metadata": {},
   "outputs": [
    {
     "ename": "AttributeError",
     "evalue": "'str' object has no attribute 'name'",
     "output_type": "error",
     "traceback": [
      "\u001b[1;31m---------------------------------------------------------------------------\u001b[0m",
      "\u001b[1;31mAttributeError\u001b[0m                            Traceback (most recent call last)",
      "\u001b[1;32m<ipython-input-11-dcdf3502b610>\u001b[0m in \u001b[0;36m<module>\u001b[1;34m()\u001b[0m\n\u001b[0;32m      6\u001b[0m \u001b[1;32mfor\u001b[0m \u001b[0mcycle\u001b[0m \u001b[1;32min\u001b[0m \u001b[0mrange\u001b[0m\u001b[1;33m(\u001b[0m\u001b[1;36m15\u001b[0m\u001b[1;33m)\u001b[0m\u001b[1;33m:\u001b[0m\u001b[1;33m\u001b[0m\u001b[0m\n\u001b[0;32m      7\u001b[0m     \u001b[0msim\u001b[0m\u001b[1;33m.\u001b[0m\u001b[0mstep\u001b[0m\u001b[1;33m(\u001b[0m\u001b[1;33m{\u001b[0m\u001b[1;33m}\u001b[0m\u001b[1;33m)\u001b[0m\u001b[1;33m\u001b[0m\u001b[0m\n\u001b[1;32m----> 8\u001b[1;33m \u001b[0msim_trace\u001b[0m\u001b[1;33m.\u001b[0m\u001b[0mrender_trace\u001b[0m\u001b[1;33m(\u001b[0m\u001b[1;33m)\u001b[0m\u001b[1;33m\u001b[0m\u001b[0m\n\u001b[0m",
      "\u001b[1;32m~\\Anaconda3\\lib\\site-packages\\pyrtl\\simulation.py\u001b[0m in \u001b[0;36mrender_trace\u001b[1;34m(self, trace_list, file, render_cls, symbol_len, segment_size, segment_delim, extra_line)\u001b[0m\n\u001b[0;32m    889\u001b[0m             \u001b[1;32mfrom\u001b[0m \u001b[0mIPython\u001b[0m\u001b[1;33m.\u001b[0m\u001b[0mdisplay\u001b[0m \u001b[1;32mimport\u001b[0m \u001b[0mdisplay\u001b[0m\u001b[1;33m,\u001b[0m \u001b[0mHTML\u001b[0m\u001b[1;33m,\u001b[0m \u001b[0mJavascript\u001b[0m  \u001b[1;31m# pylint: disable=import-error\u001b[0m\u001b[1;33m\u001b[0m\u001b[0m\n\u001b[0;32m    890\u001b[0m             \u001b[1;32mfrom\u001b[0m \u001b[1;33m.\u001b[0m\u001b[0minputoutput\u001b[0m \u001b[1;32mimport\u001b[0m \u001b[0mtrace_to_html\u001b[0m\u001b[1;33m\u001b[0m\u001b[0m\n\u001b[1;32m--> 891\u001b[1;33m             \u001b[0mhtmlstring\u001b[0m \u001b[1;33m=\u001b[0m \u001b[0mtrace_to_html\u001b[0m\u001b[1;33m(\u001b[0m\u001b[0mself\u001b[0m\u001b[1;33m,\u001b[0m \u001b[0mtrace_list\u001b[0m\u001b[1;33m=\u001b[0m\u001b[0mtrace_list\u001b[0m\u001b[1;33m,\u001b[0m \u001b[0msortkey\u001b[0m\u001b[1;33m=\u001b[0m\u001b[0m_trace_sort_key\u001b[0m\u001b[1;33m)\u001b[0m\u001b[1;33m\u001b[0m\u001b[0m\n\u001b[0m\u001b[0;32m    892\u001b[0m             \u001b[0mdisplay\u001b[0m\u001b[1;33m(\u001b[0m\u001b[0mHTML\u001b[0m\u001b[1;33m(\u001b[0m\u001b[0mhtmlstring\u001b[0m\u001b[1;33m)\u001b[0m\u001b[1;33m)\u001b[0m\u001b[1;33m\u001b[0m\u001b[0m\n\u001b[0;32m    893\u001b[0m             \u001b[0mdisplay\u001b[0m\u001b[1;33m(\u001b[0m\u001b[0mJavascript\u001b[0m\u001b[1;33m(\u001b[0m\u001b[1;34m'WaveDrom.ProcessAll()'\u001b[0m\u001b[1;33m)\u001b[0m\u001b[1;33m)\u001b[0m\u001b[1;33m\u001b[0m\u001b[0m\n",
      "\u001b[1;32m~\\Anaconda3\\lib\\site-packages\\pyrtl\\inputoutput.py\u001b[0m in \u001b[0;36mtrace_to_html\u001b[1;34m(simtrace, trace_list, sortkey)\u001b[0m\n\u001b[0;32m    454\u001b[0m     \u001b[0mbool_signal_template\u001b[0m \u001b[1;33m=\u001b[0m \u001b[1;34m'{ name: \"%s\",  wave: \"%s\" },'\u001b[0m\u001b[1;33m\u001b[0m\u001b[0m\n\u001b[0;32m    455\u001b[0m     \u001b[0mint_signal_template\u001b[0m \u001b[1;33m=\u001b[0m \u001b[1;34m'{ name: \"%s\",  wave: \"%s\", data: [%s] },'\u001b[0m\u001b[1;33m\u001b[0m\u001b[0m\n\u001b[1;32m--> 456\u001b[1;33m     \u001b[0msignals\u001b[0m \u001b[1;33m=\u001b[0m \u001b[1;33m[\u001b[0m\u001b[0mextract\u001b[0m\u001b[1;33m(\u001b[0m\u001b[0mw\u001b[0m\u001b[1;33m)\u001b[0m \u001b[1;32mfor\u001b[0m \u001b[0mw\u001b[0m \u001b[1;32min\u001b[0m \u001b[0mtrace_list\u001b[0m\u001b[1;33m]\u001b[0m\u001b[1;33m\u001b[0m\u001b[0m\n\u001b[0m\u001b[0;32m    457\u001b[0m     \u001b[0mall_signals\u001b[0m \u001b[1;33m=\u001b[0m \u001b[1;34m'\\n'\u001b[0m\u001b[1;33m.\u001b[0m\u001b[0mjoin\u001b[0m\u001b[1;33m(\u001b[0m\u001b[0msignals\u001b[0m\u001b[1;33m)\u001b[0m\u001b[1;33m\u001b[0m\u001b[0m\n\u001b[0;32m    458\u001b[0m     \u001b[0mwave\u001b[0m \u001b[1;33m=\u001b[0m \u001b[0mwave_template\u001b[0m \u001b[1;33m%\u001b[0m \u001b[0mall_signals\u001b[0m\u001b[1;33m\u001b[0m\u001b[0m\n",
      "\u001b[1;32m~\\Anaconda3\\lib\\site-packages\\pyrtl\\inputoutput.py\u001b[0m in \u001b[0;36m<listcomp>\u001b[1;34m(.0)\u001b[0m\n\u001b[0;32m    454\u001b[0m     \u001b[0mbool_signal_template\u001b[0m \u001b[1;33m=\u001b[0m \u001b[1;34m'{ name: \"%s\",  wave: \"%s\" },'\u001b[0m\u001b[1;33m\u001b[0m\u001b[0m\n\u001b[0;32m    455\u001b[0m     \u001b[0mint_signal_template\u001b[0m \u001b[1;33m=\u001b[0m \u001b[1;34m'{ name: \"%s\",  wave: \"%s\", data: [%s] },'\u001b[0m\u001b[1;33m\u001b[0m\u001b[0m\n\u001b[1;32m--> 456\u001b[1;33m     \u001b[0msignals\u001b[0m \u001b[1;33m=\u001b[0m \u001b[1;33m[\u001b[0m\u001b[0mextract\u001b[0m\u001b[1;33m(\u001b[0m\u001b[0mw\u001b[0m\u001b[1;33m)\u001b[0m \u001b[1;32mfor\u001b[0m \u001b[0mw\u001b[0m \u001b[1;32min\u001b[0m \u001b[0mtrace_list\u001b[0m\u001b[1;33m]\u001b[0m\u001b[1;33m\u001b[0m\u001b[0m\n\u001b[0m\u001b[0;32m    457\u001b[0m     \u001b[0mall_signals\u001b[0m \u001b[1;33m=\u001b[0m \u001b[1;34m'\\n'\u001b[0m\u001b[1;33m.\u001b[0m\u001b[0mjoin\u001b[0m\u001b[1;33m(\u001b[0m\u001b[0msignals\u001b[0m\u001b[1;33m)\u001b[0m\u001b[1;33m\u001b[0m\u001b[0m\n\u001b[0;32m    458\u001b[0m     \u001b[0mwave\u001b[0m \u001b[1;33m=\u001b[0m \u001b[0mwave_template\u001b[0m \u001b[1;33m%\u001b[0m \u001b[0mall_signals\u001b[0m\u001b[1;33m\u001b[0m\u001b[0m\n",
      "\u001b[1;32m~\\Anaconda3\\lib\\site-packages\\pyrtl\\inputoutput.py\u001b[0m in \u001b[0;36mextract\u001b[1;34m(w)\u001b[0m\n\u001b[0;32m    450\u001b[0m             \u001b[1;32mreturn\u001b[0m \u001b[0mbool_signal_template\u001b[0m \u001b[1;33m%\u001b[0m \u001b[1;33m(\u001b[0m\u001b[0mw\u001b[0m\u001b[1;33m.\u001b[0m\u001b[0mname\u001b[0m\u001b[1;33m,\u001b[0m \u001b[0mwavestring\u001b[0m\u001b[1;33m)\u001b[0m\u001b[1;33m\u001b[0m\u001b[0m\n\u001b[0;32m    451\u001b[0m         \u001b[1;32melse\u001b[0m\u001b[1;33m:\u001b[0m\u001b[1;33m\u001b[0m\u001b[0m\n\u001b[1;32m--> 452\u001b[1;33m             \u001b[1;32mreturn\u001b[0m \u001b[0mint_signal_template\u001b[0m \u001b[1;33m%\u001b[0m \u001b[1;33m(\u001b[0m\u001b[0mw\u001b[0m\u001b[1;33m.\u001b[0m\u001b[0mname\u001b[0m\u001b[1;33m,\u001b[0m \u001b[0mwavestring\u001b[0m\u001b[1;33m,\u001b[0m \u001b[0mdatastring\u001b[0m\u001b[1;33m)\u001b[0m\u001b[1;33m\u001b[0m\u001b[0m\n\u001b[0m\u001b[0;32m    453\u001b[0m \u001b[1;33m\u001b[0m\u001b[0m\n\u001b[0;32m    454\u001b[0m     \u001b[0mbool_signal_template\u001b[0m \u001b[1;33m=\u001b[0m \u001b[1;34m'{ name: \"%s\",  wave: \"%s\" },'\u001b[0m\u001b[1;33m\u001b[0m\u001b[0m\n",
      "\u001b[1;31mAttributeError\u001b[0m: 'str' object has no attribute 'name'"
     ]
    }
   ],
   "source": [
    "simplepipeline = SimplePipelineExample()\n",
    "\n",
    "sim_trace = pyrtl.SimulationTrace()\n",
    "sim = pyrtl.Simulation(tracer=sim_trace)\n",
    "\n",
    "for cycle in range(15):\n",
    "    sim.step({})\n",
    "sim_trace.render_trace()"
   ]
  }
 ],
 "metadata": {
  "kernelspec": {
   "display_name": "Python 3",
   "language": "python",
   "name": "python3"
  },
  "language_info": {
   "codemirror_mode": {
    "name": "ipython",
    "version": 3
   },
   "file_extension": ".py",
   "mimetype": "text/x-python",
   "name": "python",
   "nbconvert_exporter": "python",
   "pygments_lexer": "ipython3",
   "version": "3.6.3"
  }
 },
 "nbformat": 4,
 "nbformat_minor": 2
}
