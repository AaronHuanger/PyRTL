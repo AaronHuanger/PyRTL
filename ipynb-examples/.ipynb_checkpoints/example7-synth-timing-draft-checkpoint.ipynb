{
 "cells": [
  {
   "cell_type": "markdown",
   "metadata": {},
   "source": [
    "# Example 7: Reduction and Speed Analysis"
   ]
  },
  {
   "cell_type": "markdown",
   "metadata": {},
   "source": [
    "After building a circuit, one might want to do some stuff to **reduce the\n",
    "hardware into simpler nets** as well as **analyze various metrics of the\n",
    "hardware**. This functionality is provided in the Passes part of PyRTL\n",
    "and will demonstrated here."
   ]
  },
  {
   "cell_type": "code",
   "execution_count": 19,
   "metadata": {
    "collapsed": true
   },
   "outputs": [],
   "source": [
    "import pyrtl\n",
    "from pyrtl.analysis import estimate"
   ]
  },
  {
   "cell_type": "markdown",
   "metadata": {},
   "source": [
    "## Part 1: Timing Analysis"
   ]
  },
  {
   "cell_type": "markdown",
   "metadata": {},
   "source": [
    "**Timing and area usage** are key considerations of any hardware block that one\n",
    "makes.\n",
    "\n",
    "PyRTL provides functions to do these opertions"
   ]
  },
  {
   "cell_type": "code",
   "execution_count": 20,
   "metadata": {
    "collapsed": true
   },
   "outputs": [],
   "source": [
    "# Creating a sample harware block\n",
    "pyrtl.reset_working_block()\n",
    "const_wire = pyrtl.Const(6, bitwidth=4)\n",
    "in_wire2 = pyrtl.Input(bitwidth=4, name=\"input2\")\n",
    "out_wire = pyrtl.Output(bitwidth=5, name=\"output\")\n",
    "out_wire <<= const_wire + in_wire2"
   ]
  },
  {
   "cell_type": "markdown",
   "metadata": {},
   "source": [
    "### Now we will do the timing analysis as well as print out the critical path"
   ]
  },
  {
   "cell_type": "code",
   "execution_count": 21,
   "metadata": {},
   "outputs": [
    {
     "name": "stdout",
     "output_type": "stream",
     "text": [
      "Pre Synthesis:\n",
      "The total block timing delay is  386.9\n"
     ]
    }
   ],
   "source": [
    "# Generating timing analysis information\n",
    "print(\"Pre Synthesis:\")\n",
    "timing = estimate.TimingAnalysis()\n",
    "timing.print_max_length()"
   ]
  },
  {
   "cell_type": "markdown",
   "metadata": {},
   "source": [
    "We are also able to **print out the critical paths** as well as get them\n",
    "back as an array."
   ]
  },
  {
   "cell_type": "code",
   "execution_count": 22,
   "metadata": {},
   "outputs": [
    {
     "name": "stdout",
     "output_type": "stream",
     "text": [
      "Critical path 0 :\n",
      "   The first wire is: const_40_6/4C\n",
      "   tmp156/5W <-- + -- const_40_6/4C, input2/4I \n",
      "\n",
      "Critical path 1 :\n",
      "   The first wire is: input2/4I\n",
      "   tmp156/5W <-- + -- const_40_6/4C, input2/4I \n",
      "\n",
      "Critical path 2 :\n",
      "   The first wire is: const_40_6/4C\n",
      "   tmp156/5W <-- + -- const_40_6/4C, input2/4I \n",
      "   output/5O <-- w -- tmp156/5W \n",
      "\n",
      "Critical path 3 :\n",
      "   The first wire is: input2/4I\n",
      "   tmp156/5W <-- + -- const_40_6/4C, input2/4I \n",
      "   output/5O <-- w -- tmp156/5W \n",
      "\n"
     ]
    }
   ],
   "source": [
    "critical_path_info = timing.critical_path()"
   ]
  },
  {
   "cell_type": "markdown",
   "metadata": {},
   "source": [
    "## Part 2: Area Analysis"
   ]
  },
  {
   "cell_type": "markdown",
   "metadata": {},
   "source": [
    "PyRTL also provides **estimates for the area** that would be used up if the\n",
    "circuit was printed as an **ASIC**"
   ]
  },
  {
   "cell_type": "code",
   "execution_count": 23,
   "metadata": {},
   "outputs": [
    {
     "name": "stdout",
     "output_type": "stream",
     "text": [
      "Estimated Area of block 4.870008e-05 sq mm\n",
      "\n"
     ]
    }
   ],
   "source": [
    "logic_area, mem_area = estimate.area_estimation(tech_in_nm=65)\n",
    "est_area = logic_area + mem_area\n",
    "print(\"Estimated Area of block\", est_area, \"sq mm\")\n",
    "print()"
   ]
  },
  {
   "cell_type": "markdown",
   "metadata": {},
   "source": [
    "## Part 3: Synthesis"
   ]
  },
  {
   "cell_type": "markdown",
   "metadata": {},
   "source": [
    "Synthesis is the operation of **reducing the circuit into simpler components**\n",
    "The base synthesis function breaks down the more complex logic operations\n",
    "into logic gates (keeps registers and memories intact) as well as **reduces\n",
    "all combinatorial logic into ops that only use one bitwidth wires**\n",
    "\n",
    "This synthesis allows for PyRTL to make **optimizations to the net structure**\n",
    "as well as prepares it for further transformations on the PyRTL Toolchain"
   ]
  },
  {
   "cell_type": "code",
   "execution_count": 24,
   "metadata": {},
   "outputs": [
    {
     "name": "stdout",
     "output_type": "stream",
     "text": [
      "Pre Optimization:\n",
      "The total block timing delay is  1236.3999999999996\n",
      "tmp_input2_synth_3/1W <-- w -- tmp204/1W \n",
      "tmp200_synth_3/1W <-- w -- tmp199_synth_3/1W \n",
      "tmp222/1W <-- ^ -- tmp179_synth_0/1W, tmp180_synth_0/1W \n",
      "tmp181_synth_0/1W <-- w -- tmp222/1W \n",
      "tmp177_synth_1/1W <-- w -- tmp166_synth_2/1W \n",
      "tmp224/1W <-- | -- tmp161_synth_0/1W, tmp162_synth_0/1W \n",
      "tmp169_synth_0/1W <-- w -- tmp167_synth_0/1W \n",
      "tmp172_synth_0/1W <-- w -- tmp228/1W \n",
      "tmp190_synth_0/1W <-- w -- tmp231/1W \n",
      "tmp166_synth_0/1W <-- w -- const_46_1/1C \n",
      "tmp178_synth_0/1W <-- w -- tmp167_synth_1/1W \n",
      "tmp156_synth_2/1W <-- w -- tmp200_synth_2/1W \n",
      "tmp164_synth_0/1W <-- w -- tmp216/1W \n",
      "tmp160_synth_0/1W <-- w -- tmp229/1W \n",
      "tmp182_synth_0/1W <-- w -- tmp225/1W \n",
      "tmp212/1W <-- | -- tmp192_synth_0/1W, tmp193_synth_0/1W \n",
      "tmp167_synth_0/1W <-- w -- tmp_input2_synth_1/1W \n",
      "tmp168_synth_0/1W <-- w -- tmp166_synth_0/1W \n",
      "tmp201/1W <-- s -- input2/4I ((0,))\n",
      "tmp223/1W <-- & -- tmp168_synth_0/1W, tmp165_synth_0/1W \n",
      "tmp171_synth_0/1W <-- w -- tmp211/1W \n",
      "tmp_output_synth_1/1W <-- w -- tmp156_synth_1/1W \n",
      "tmp208/1W <-- | -- tmp194_synth_0/1W, tmp195_synth_0/1W \n",
      "tmp229/1W <-- ^ -- tmp159_synth_0/1W, const_51_0/1C \n",
      "tmp203/1W <-- s -- input2/4I ((2,))\n",
      "tmp156_synth_1/1W <-- w -- tmp200_synth_1/1W \n",
      "tmp226/1W <-- & -- tmp188_synth_0/1W, tmp187_synth_0/1W \n",
      "tmp158_synth_0/1W <-- w -- tmp_input2_synth_0/1W \n",
      "tmp189_synth_0/1W <-- w -- tmp178_synth_1/1W \n",
      "output/5O <-- w -- tmp205/5W \n",
      "tmp180_synth_0/1W <-- w -- tmp178_synth_0/1W \n",
      "tmp206/1W <-- ^ -- tmp190_synth_0/1W, tmp187_synth_0/1W \n",
      "tmp202/1W <-- s -- input2/4I ((1,))\n",
      "tmp_input2_synth_2/1W <-- w -- tmp203/1W \n",
      "tmp199_synth_2/1W <-- w -- tmp198_synth_1/1W \n",
      "tmp211/1W <-- ^ -- tmp170_synth_0/1W, tmp165_synth_0/1W \n",
      "tmp193_synth_0/1W <-- w -- tmp226/1W \n",
      "tmp228/1W <-- & -- tmp168_synth_0/1W, tmp169_synth_0/1W \n",
      "tmp198_synth_2/1W <-- w -- tmp197_synth_1/1W \n",
      "tmp195_synth_0/1W <-- w -- tmp218/1W \n",
      "tmp198_synth_1/1W <-- w -- tmp197_synth_0/1W \n",
      "tmp177_synth_0/1W <-- w -- tmp166_synth_1/1W \n",
      "tmp156_synth_3/1W <-- w -- tmp200_synth_3/1W \n",
      "tmp197_synth_1/1W <-- w -- tmp191_synth_0/1W \n",
      "tmp216/1W <-- & -- tmp158_synth_0/1W, const_50_0/1C \n",
      "tmp176_synth_0/1W <-- w -- tmp214/1W \n",
      "tmp225/1W <-- ^ -- tmp181_synth_0/1W, tmp176_synth_0/1W \n",
      "tmp205/5W <-- c -- tmp_output_synth_4/1W, tmp_output_synth_3/1W, tmp_output_synth_2/1W, tmp_output_synth_1/1W, tmp_output_synth_0/1W \n",
      "tmp167_synth_1/1W <-- w -- tmp_input2_synth_2/1W \n",
      "tmp186_synth_0/1W <-- w -- tmp210/1W \n",
      "tmp200_synth_2/1W <-- w -- tmp199_synth_2/1W \n",
      "tmp233/1W <-- ^ -- tmp168_synth_0/1W, tmp169_synth_0/1W \n",
      "tmp199_synth_1/1W <-- w -- tmp198_synth_0/1W \n",
      "tmp184_synth_0/1W <-- w -- tmp219/1W \n",
      "tmp192_synth_0/1W <-- w -- tmp220/1W \n",
      "tmp200_synth_0/1W <-- w -- tmp199_synth_0/1W \n",
      "tmp209/1W <-- & -- tmp169_synth_0/1W, tmp165_synth_0/1W \n",
      "tmp215/1W <-- & -- tmp157_synth_0/1W, const_49_0/1C \n",
      "tmp231/1W <-- ^ -- tmp188_synth_0/1W, tmp189_synth_0/1W \n",
      "tmp_output_synth_2/1W <-- w -- tmp156_synth_2/1W \n",
      "tmp178_synth_1/1W <-- w -- tmp167_synth_2/1W \n",
      "tmp198_synth_0/1W <-- w -- tmp171_synth_0/1W \n",
      "tmp214/1W <-- | -- tmp174_synth_0/1W, tmp175_synth_0/1W \n",
      "tmp221/1W <-- | -- tmp172_synth_0/1W, tmp173_synth_0/1W \n",
      "tmp170_synth_0/1W <-- w -- tmp233/1W \n",
      "tmp210/1W <-- & -- tmp180_synth_0/1W, tmp176_synth_0/1W \n",
      "tmp174_synth_0/1W <-- w -- tmp221/1W \n",
      "tmp183_synth_0/1W <-- w -- tmp232/1W \n",
      "tmp187_synth_0/1W <-- w -- tmp217/1W \n",
      "tmp199_synth_0/1W <-- w -- tmp160_synth_0/1W \n",
      "tmp219/1W <-- & -- tmp179_synth_0/1W, tmp176_synth_0/1W \n",
      "tmp197_synth_0/1W <-- w -- tmp182_synth_0/1W \n",
      "tmp196_synth_0/1W <-- w -- tmp208/1W \n",
      "tmp207/1W <-- | -- tmp163_synth_0/1W, tmp164_synth_0/1W \n",
      "tmp217/1W <-- | -- tmp185_synth_0/1W, tmp186_synth_0/1W \n",
      "tmp162_synth_0/1W <-- w -- tmp215/1W \n",
      "tmp227/1W <-- | -- tmp183_synth_0/1W, tmp184_synth_0/1W \n",
      "tmp166_synth_2/1W <-- w -- const_48_0/1C \n",
      "tmp188_synth_0/1W <-- w -- tmp177_synth_1/1W \n",
      "tmp157_synth_0/1W <-- w -- const_45_0/1C \n",
      "tmp199_synth_3/1W <-- w -- tmp198_synth_2/1W \n",
      "tmp156_synth_4/1W <-- w -- tmp200_synth_4/1W \n",
      "tmp175_synth_0/1W <-- w -- tmp209/1W \n",
      "tmp_output_synth_3/1W <-- w -- tmp156_synth_3/1W \n",
      "tmp218/1W <-- & -- tmp189_synth_0/1W, tmp187_synth_0/1W \n",
      "tmp185_synth_0/1W <-- w -- tmp227/1W \n",
      "tmp230/1W <-- & -- tmp157_synth_0/1W, tmp158_synth_0/1W \n",
      "tmp213/1W <-- ^ -- tmp157_synth_0/1W, tmp158_synth_0/1W \n",
      "tmp194_synth_0/1W <-- w -- tmp212/1W \n",
      "tmp220/1W <-- & -- tmp188_synth_0/1W, tmp189_synth_0/1W \n",
      "tmp163_synth_0/1W <-- w -- tmp224/1W \n",
      "tmp166_synth_1/1W <-- w -- const_47_1/1C \n",
      "tmp159_synth_0/1W <-- w -- tmp213/1W \n",
      "tmp200_synth_4/1W <-- w -- tmp196_synth_0/1W \n",
      "tmp173_synth_0/1W <-- w -- tmp223/1W \n",
      "tmp179_synth_0/1W <-- w -- tmp177_synth_0/1W \n",
      "tmp_input2_synth_1/1W <-- w -- tmp202/1W \n",
      "tmp165_synth_0/1W <-- w -- tmp207/1W \n",
      "tmp_output_synth_4/1W <-- w -- tmp156_synth_4/1W \n",
      "tmp156_synth_0/1W <-- w -- tmp200_synth_0/1W \n",
      "tmp161_synth_0/1W <-- w -- tmp230/1W \n",
      "tmp204/1W <-- s -- input2/4I ((3,))\n",
      "tmp_input2_synth_0/1W <-- w -- tmp201/1W \n",
      "tmp191_synth_0/1W <-- w -- tmp206/1W \n",
      "tmp167_synth_2/1W <-- w -- tmp_input2_synth_3/1W \n",
      "tmp_output_synth_0/1W <-- w -- tmp156_synth_0/1W \n",
      "tmp232/1W <-- & -- tmp179_synth_0/1W, tmp180_synth_0/1W \n",
      "tmp200_synth_1/1W <-- w -- tmp199_synth_1/1W \n",
      "\n"
     ]
    }
   ],
   "source": [
    "pyrtl.synthesize()\n",
    "\n",
    "print(\"Pre Optimization:\")\n",
    "timing = estimate.TimingAnalysis()\n",
    "timing.print_max_length()\n",
    "for net in pyrtl.working_block().logic:\n",
    "    print(str(net))\n",
    "print()"
   ]
  },
  {
   "cell_type": "markdown",
   "metadata": {},
   "source": [
    "## Part 4: Optimization"
   ]
  },
  {
   "cell_type": "markdown",
   "metadata": {},
   "source": [
    "PyRTL has functions built in to **eliminate unnecessary logic** from the\n",
    "circuit.\n",
    "\n",
    "These functions are all done with a simple call:"
   ]
  },
  {
   "cell_type": "code",
   "execution_count": 25,
   "metadata": {},
   "outputs": [
    {
     "ename": "PyrtlError",
     "evalue": "need graphviz installed (try \"pip install graphviz\")",
     "output_type": "error",
     "traceback": [
      "\u001b[1;31m---------------------------------------------------------------------------\u001b[0m",
      "\u001b[1;31mModuleNotFoundError\u001b[0m                       Traceback (most recent call last)",
      "\u001b[1;32m~\\Anaconda3\\lib\\site-packages\\pyrtl\\inputoutput.py\u001b[0m in \u001b[0;36mblock_to_svg\u001b[1;34m(block)\u001b[0m\n\u001b[0;32m    399\u001b[0m     \u001b[1;32mtry\u001b[0m\u001b[1;33m:\u001b[0m\u001b[1;33m\u001b[0m\u001b[0m\n\u001b[1;32m--> 400\u001b[1;33m         \u001b[1;32mfrom\u001b[0m \u001b[0mgraphviz\u001b[0m \u001b[1;32mimport\u001b[0m \u001b[0mSource\u001b[0m\u001b[1;33m\u001b[0m\u001b[0m\n\u001b[0m\u001b[0;32m    401\u001b[0m         \u001b[1;32mreturn\u001b[0m \u001b[0mSource\u001b[0m\u001b[1;33m(\u001b[0m\u001b[0mblock_to_graphviz_string\u001b[0m\u001b[1;33m(\u001b[0m\u001b[1;33m)\u001b[0m\u001b[1;33m)\u001b[0m\u001b[1;33m.\u001b[0m\u001b[0m_repr_svg_\u001b[0m\u001b[1;33m(\u001b[0m\u001b[1;33m)\u001b[0m\u001b[1;33m\u001b[0m\u001b[0m\n",
      "\u001b[1;31mModuleNotFoundError\u001b[0m: No module named 'graphviz'",
      "\nDuring handling of the above exception, another exception occurred:\n",
      "\u001b[1;31mPyrtlError\u001b[0m                                Traceback (most recent call last)",
      "\u001b[1;32m~\\Anaconda3\\lib\\site-packages\\IPython\\core\\formatters.py\u001b[0m in \u001b[0;36m__call__\u001b[1;34m(self, obj)\u001b[0m\n\u001b[0;32m    334\u001b[0m             \u001b[0mmethod\u001b[0m \u001b[1;33m=\u001b[0m \u001b[0mget_real_method\u001b[0m\u001b[1;33m(\u001b[0m\u001b[0mobj\u001b[0m\u001b[1;33m,\u001b[0m \u001b[0mself\u001b[0m\u001b[1;33m.\u001b[0m\u001b[0mprint_method\u001b[0m\u001b[1;33m)\u001b[0m\u001b[1;33m\u001b[0m\u001b[0m\n\u001b[0;32m    335\u001b[0m             \u001b[1;32mif\u001b[0m \u001b[0mmethod\u001b[0m \u001b[1;32mis\u001b[0m \u001b[1;32mnot\u001b[0m \u001b[1;32mNone\u001b[0m\u001b[1;33m:\u001b[0m\u001b[1;33m\u001b[0m\u001b[0m\n\u001b[1;32m--> 336\u001b[1;33m                 \u001b[1;32mreturn\u001b[0m \u001b[0mmethod\u001b[0m\u001b[1;33m(\u001b[0m\u001b[1;33m)\u001b[0m\u001b[1;33m\u001b[0m\u001b[0m\n\u001b[0m\u001b[0;32m    337\u001b[0m             \u001b[1;32mreturn\u001b[0m \u001b[1;32mNone\u001b[0m\u001b[1;33m\u001b[0m\u001b[0m\n\u001b[0;32m    338\u001b[0m         \u001b[1;32melse\u001b[0m\u001b[1;33m:\u001b[0m\u001b[1;33m\u001b[0m\u001b[0m\n",
      "\u001b[1;32m~\\Anaconda3\\lib\\site-packages\\pyrtl\\core.py\u001b[0m in \u001b[0;36m_repr_svg_\u001b[1;34m(self)\u001b[0m\n\u001b[0;32m    335\u001b[0m         \u001b[1;34m\"\"\" IPython display support for Block. \"\"\"\u001b[0m\u001b[1;33m\u001b[0m\u001b[0m\n\u001b[0;32m    336\u001b[0m         \u001b[1;32mfrom\u001b[0m \u001b[1;33m.\u001b[0m\u001b[0minputoutput\u001b[0m \u001b[1;32mimport\u001b[0m \u001b[0mblock_to_svg\u001b[0m\u001b[1;33m\u001b[0m\u001b[0m\n\u001b[1;32m--> 337\u001b[1;33m         \u001b[1;32mreturn\u001b[0m \u001b[0mblock_to_svg\u001b[0m\u001b[1;33m(\u001b[0m\u001b[0mself\u001b[0m\u001b[1;33m)\u001b[0m\u001b[1;33m\u001b[0m\u001b[0m\n\u001b[0m\u001b[0;32m    338\u001b[0m \u001b[1;33m\u001b[0m\u001b[0m\n\u001b[0;32m    339\u001b[0m     \u001b[1;32mdef\u001b[0m \u001b[0m__iter__\u001b[0m\u001b[1;33m(\u001b[0m\u001b[0mself\u001b[0m\u001b[1;33m)\u001b[0m\u001b[1;33m:\u001b[0m\u001b[1;33m\u001b[0m\u001b[0m\n",
      "\u001b[1;32m~\\Anaconda3\\lib\\site-packages\\pyrtl\\inputoutput.py\u001b[0m in \u001b[0;36mblock_to_svg\u001b[1;34m(block)\u001b[0m\n\u001b[0;32m    401\u001b[0m         \u001b[1;32mreturn\u001b[0m \u001b[0mSource\u001b[0m\u001b[1;33m(\u001b[0m\u001b[0mblock_to_graphviz_string\u001b[0m\u001b[1;33m(\u001b[0m\u001b[1;33m)\u001b[0m\u001b[1;33m)\u001b[0m\u001b[1;33m.\u001b[0m\u001b[0m_repr_svg_\u001b[0m\u001b[1;33m(\u001b[0m\u001b[1;33m)\u001b[0m\u001b[1;33m\u001b[0m\u001b[0m\n\u001b[0;32m    402\u001b[0m     \u001b[1;32mexcept\u001b[0m \u001b[0mImportError\u001b[0m\u001b[1;33m:\u001b[0m\u001b[1;33m\u001b[0m\u001b[0m\n\u001b[1;32m--> 403\u001b[1;33m         \u001b[1;32mraise\u001b[0m \u001b[0mPyrtlError\u001b[0m\u001b[1;33m(\u001b[0m\u001b[1;34m'need graphviz installed (try \"pip install graphviz\")'\u001b[0m\u001b[1;33m)\u001b[0m\u001b[1;33m\u001b[0m\u001b[0m\n\u001b[0m\u001b[0;32m    404\u001b[0m \u001b[1;33m\u001b[0m\u001b[0m\n\u001b[0;32m    405\u001b[0m \u001b[1;33m\u001b[0m\u001b[0m\n",
      "\u001b[1;31mPyrtlError\u001b[0m: need graphviz installed (try \"pip install graphviz\")"
     ]
    },
    {
     "data": {
      "text/plain": [
       "<pyrtl.core.PostSynthBlock at 0x1da82a12198>"
      ]
     },
     "execution_count": 25,
     "metadata": {},
     "output_type": "execute_result"
    }
   ],
   "source": [
    "pyrtl.optimize()"
   ]
  },
  {
   "cell_type": "markdown",
   "metadata": {},
   "source": [
    "### Now to see the difference"
   ]
  },
  {
   "cell_type": "code",
   "execution_count": 26,
   "metadata": {},
   "outputs": [
    {
     "name": "stdout",
     "output_type": "stream",
     "text": [
      "Post Optimization:\n",
      "The total block timing delay is  345.66999999999996\n"
     ]
    }
   ],
   "source": [
    "print(\"Post Optimization:\")\n",
    "timing = estimate.TimingAnalysis()\n",
    "timing.print_max_length()"
   ]
  },
  {
   "cell_type": "code",
   "execution_count": 27,
   "metadata": {},
   "outputs": [
    {
     "name": "stdout",
     "output_type": "stream",
     "text": [
      "tmp222/1W <-- ~ -- tmp203/1W \n",
      "tmp210/1W <-- & -- tmp203/1W, tmp202/1W \n",
      "tmp217/1W <-- | -- tmp227/1W, tmp210/1W \n",
      "tmp225/1W <-- ^ -- tmp222/1W, tmp202/1W \n",
      "tmp206/1W <-- ^ -- tmp204/1W, tmp217/1W \n",
      "tmp204/1W <-- s -- input2/4I ((3,))\n",
      "tmp201/1W <-- s -- input2/4I ((0,))\n",
      "tmp233/1W <-- ~ -- tmp202/1W \n",
      "tmp218/1W <-- & -- tmp204/1W, tmp217/1W \n",
      "tmp203/1W <-- s -- input2/4I ((2,))\n",
      "tmp202/1W <-- s -- input2/4I ((1,))\n",
      "output/5O <-- w -- tmp205/5W \n",
      "tmp227/1W <-- | -- tmp203/1W, tmp202/1W \n",
      "tmp205/5W <-- c -- tmp218/1W, tmp206/1W, tmp225/1W, tmp233/1W, tmp201/1W \n"
     ]
    }
   ],
   "source": [
    "for net in pyrtl.working_block().logic:\n",
    "    print(str(net))"
   ]
  },
  {
   "cell_type": "markdown",
   "metadata": {},
   "source": [
    "### As we can see, the number of nets in the circuit were drastically reduced by the optimization algorithm."
   ]
  }
 ],
 "metadata": {
  "kernelspec": {
   "display_name": "Python 3",
   "language": "python",
   "name": "python3"
  },
  "language_info": {
   "codemirror_mode": {
    "name": "ipython",
    "version": 3
   },
   "file_extension": ".py",
   "mimetype": "text/x-python",
   "name": "python",
   "nbconvert_exporter": "python",
   "pygments_lexer": "ipython3",
   "version": "3.6.3"
  }
 },
 "nbformat": 4,
 "nbformat_minor": 2
}
